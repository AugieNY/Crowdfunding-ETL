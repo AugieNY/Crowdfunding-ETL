{
 "cells": [
  {
   "cell_type": "code",
   "execution_count": 1,
   "id": "2611c99d",
   "metadata": {},
   "outputs": [],
   "source": [
    "import pandas as pd\n"
   ]
  },
  {
   "cell_type": "code",
   "execution_count": 2,
   "id": "54946559",
   "metadata": {},
   "outputs": [
    {
     "data": {
      "text/plain": [
       "['crowdfunding_info', 'contact_info']"
      ]
     },
     "execution_count": 2,
     "metadata": {},
     "output_type": "execute_result"
    }
   ],
   "source": [
    "# Read the data into a Pandas DataFrame\n",
    "crowdfunding_data = pd.ExcelFile(\"crowdfunding.xlsx\")\n",
    "# Get the sheet names.\n",
    "crowdfunding_data.sheet_names"
   ]
  },
  {
   "cell_type": "code",
   "execution_count": 3,
   "id": "c1fe6312",
   "metadata": {},
   "outputs": [
    {
     "data": {
      "text/html": [
       "<div>\n",
       "<style scoped>\n",
       "    .dataframe tbody tr th:only-of-type {\n",
       "        vertical-align: middle;\n",
       "    }\n",
       "\n",
       "    .dataframe tbody tr th {\n",
       "        vertical-align: top;\n",
       "    }\n",
       "\n",
       "    .dataframe thead th {\n",
       "        text-align: right;\n",
       "    }\n",
       "</style>\n",
       "<table border=\"1\" class=\"dataframe\">\n",
       "  <thead>\n",
       "    <tr style=\"text-align: right;\">\n",
       "      <th></th>\n",
       "      <th>cf_id</th>\n",
       "      <th>company_name</th>\n",
       "      <th>blurb</th>\n",
       "      <th>goal</th>\n",
       "      <th>pledged</th>\n",
       "      <th>outcome</th>\n",
       "      <th>backers_count</th>\n",
       "      <th>country</th>\n",
       "      <th>currency</th>\n",
       "      <th>launched_at</th>\n",
       "      <th>deadline</th>\n",
       "      <th>staff_pick</th>\n",
       "      <th>spotlight</th>\n",
       "      <th>category &amp; sub-category</th>\n",
       "    </tr>\n",
       "  </thead>\n",
       "  <tbody>\n",
       "    <tr>\n",
       "      <th>0</th>\n",
       "      <td>147</td>\n",
       "      <td>Baldwin, Riley and Jackson</td>\n",
       "      <td>Pre-emptive tertiary standardization</td>\n",
       "      <td>100</td>\n",
       "      <td>0</td>\n",
       "      <td>failed</td>\n",
       "      <td>0</td>\n",
       "      <td>CA</td>\n",
       "      <td>CAD</td>\n",
       "      <td>1581573600</td>\n",
       "      <td>1614578400</td>\n",
       "      <td>False</td>\n",
       "      <td>False</td>\n",
       "      <td>food/food trucks</td>\n",
       "    </tr>\n",
       "    <tr>\n",
       "      <th>1</th>\n",
       "      <td>1621</td>\n",
       "      <td>Odom Inc</td>\n",
       "      <td>Managed bottom-line architecture</td>\n",
       "      <td>1400</td>\n",
       "      <td>14560</td>\n",
       "      <td>successful</td>\n",
       "      <td>158</td>\n",
       "      <td>US</td>\n",
       "      <td>USD</td>\n",
       "      <td>1611554400</td>\n",
       "      <td>1621918800</td>\n",
       "      <td>False</td>\n",
       "      <td>True</td>\n",
       "      <td>music/rock</td>\n",
       "    </tr>\n",
       "    <tr>\n",
       "      <th>2</th>\n",
       "      <td>1812</td>\n",
       "      <td>Melton, Robinson and Fritz</td>\n",
       "      <td>Function-based leadingedge pricing structure</td>\n",
       "      <td>108400</td>\n",
       "      <td>142523</td>\n",
       "      <td>successful</td>\n",
       "      <td>1425</td>\n",
       "      <td>AU</td>\n",
       "      <td>AUD</td>\n",
       "      <td>1608184800</td>\n",
       "      <td>1640844000</td>\n",
       "      <td>False</td>\n",
       "      <td>False</td>\n",
       "      <td>technology/web</td>\n",
       "    </tr>\n",
       "    <tr>\n",
       "      <th>3</th>\n",
       "      <td>2156</td>\n",
       "      <td>Mcdonald, Gonzalez and Ross</td>\n",
       "      <td>Vision-oriented fresh-thinking conglomeration</td>\n",
       "      <td>4200</td>\n",
       "      <td>2477</td>\n",
       "      <td>failed</td>\n",
       "      <td>24</td>\n",
       "      <td>US</td>\n",
       "      <td>USD</td>\n",
       "      <td>1634792400</td>\n",
       "      <td>1642399200</td>\n",
       "      <td>False</td>\n",
       "      <td>False</td>\n",
       "      <td>music/rock</td>\n",
       "    </tr>\n",
       "    <tr>\n",
       "      <th>4</th>\n",
       "      <td>1365</td>\n",
       "      <td>Larson-Little</td>\n",
       "      <td>Proactive foreground core</td>\n",
       "      <td>7600</td>\n",
       "      <td>5265</td>\n",
       "      <td>failed</td>\n",
       "      <td>53</td>\n",
       "      <td>US</td>\n",
       "      <td>USD</td>\n",
       "      <td>1608530400</td>\n",
       "      <td>1629694800</td>\n",
       "      <td>False</td>\n",
       "      <td>False</td>\n",
       "      <td>theater/plays</td>\n",
       "    </tr>\n",
       "  </tbody>\n",
       "</table>\n",
       "</div>"
      ],
      "text/plain": [
       "   cf_id                 company_name  \\\n",
       "0    147   Baldwin, Riley and Jackson   \n",
       "1   1621                     Odom Inc   \n",
       "2   1812   Melton, Robinson and Fritz   \n",
       "3   2156  Mcdonald, Gonzalez and Ross   \n",
       "4   1365                Larson-Little   \n",
       "\n",
       "                                           blurb    goal  pledged     outcome  \\\n",
       "0           Pre-emptive tertiary standardization     100        0      failed   \n",
       "1               Managed bottom-line architecture    1400    14560  successful   \n",
       "2   Function-based leadingedge pricing structure  108400   142523  successful   \n",
       "3  Vision-oriented fresh-thinking conglomeration    4200     2477      failed   \n",
       "4                      Proactive foreground core    7600     5265      failed   \n",
       "\n",
       "   backers_count country currency  launched_at    deadline  staff_pick  \\\n",
       "0              0      CA      CAD   1581573600  1614578400       False   \n",
       "1            158      US      USD   1611554400  1621918800       False   \n",
       "2           1425      AU      AUD   1608184800  1640844000       False   \n",
       "3             24      US      USD   1634792400  1642399200       False   \n",
       "4             53      US      USD   1608530400  1629694800       False   \n",
       "\n",
       "   spotlight category & sub-category  \n",
       "0      False        food/food trucks  \n",
       "1       True              music/rock  \n",
       "2      False          technology/web  \n",
       "3      False              music/rock  \n",
       "4      False           theater/plays  "
      ]
     },
     "execution_count": 3,
     "metadata": {},
     "output_type": "execute_result"
    }
   ],
   "source": [
    "# Get the crowdfunding_info from the crowdfunding_info worksheet. \n",
    "crowdfunding_info_df = pd.read_excel(crowdfunding_data,sheet_name='crowdfunding_info')\n",
    "crowdfunding_info_df.head()"
   ]
  },
  {
   "cell_type": "code",
   "execution_count": 4,
   "id": "6ad8945f",
   "metadata": {},
   "outputs": [
    {
     "data": {
      "text/html": [
       "<div>\n",
       "<style scoped>\n",
       "    .dataframe tbody tr th:only-of-type {\n",
       "        vertical-align: middle;\n",
       "    }\n",
       "\n",
       "    .dataframe tbody tr th {\n",
       "        vertical-align: top;\n",
       "    }\n",
       "\n",
       "    .dataframe thead th {\n",
       "        text-align: right;\n",
       "    }\n",
       "</style>\n",
       "<table border=\"1\" class=\"dataframe\">\n",
       "  <thead>\n",
       "    <tr style=\"text-align: right;\">\n",
       "      <th></th>\n",
       "      <th>contact_info</th>\n",
       "    </tr>\n",
       "  </thead>\n",
       "  <tbody>\n",
       "    <tr>\n",
       "      <th>0</th>\n",
       "      <td>{\"contact_id\": 4661, \"name\": \"Cecilia Velasco\", \"email\": \"cecilia.velasco@rodrigues.fr\"}</td>\n",
       "    </tr>\n",
       "    <tr>\n",
       "      <th>1</th>\n",
       "      <td>{\"contact_id\": 3765, \"name\": \"Mariana Ellis\", \"email\": \"mariana.ellis@rossi.org\"}</td>\n",
       "    </tr>\n",
       "    <tr>\n",
       "      <th>2</th>\n",
       "      <td>{\"contact_id\": 4187, \"name\": \"Sofie Woods\", \"email\": \"sofie.woods@riviere.com\"}</td>\n",
       "    </tr>\n",
       "    <tr>\n",
       "      <th>3</th>\n",
       "      <td>{\"contact_id\": 4941, \"name\": \"Jeanette Iannotti\", \"email\": \"jeanette.iannotti@yahoo.com\"}</td>\n",
       "    </tr>\n",
       "    <tr>\n",
       "      <th>4</th>\n",
       "      <td>{\"contact_id\": 2199, \"name\": \"Samuel Sorgatz\", \"email\": \"samuel.sorgatz@gmail.com\"}</td>\n",
       "    </tr>\n",
       "  </tbody>\n",
       "</table>\n",
       "</div>"
      ],
      "text/plain": [
       "                                                                                contact_info\n",
       "0   {\"contact_id\": 4661, \"name\": \"Cecilia Velasco\", \"email\": \"cecilia.velasco@rodrigues.fr\"}\n",
       "1          {\"contact_id\": 3765, \"name\": \"Mariana Ellis\", \"email\": \"mariana.ellis@rossi.org\"}\n",
       "2            {\"contact_id\": 4187, \"name\": \"Sofie Woods\", \"email\": \"sofie.woods@riviere.com\"}\n",
       "3  {\"contact_id\": 4941, \"name\": \"Jeanette Iannotti\", \"email\": \"jeanette.iannotti@yahoo.com\"}\n",
       "4        {\"contact_id\": 2199, \"name\": \"Samuel Sorgatz\", \"email\": \"samuel.sorgatz@gmail.com\"}"
      ]
     },
     "execution_count": 4,
     "metadata": {},
     "output_type": "execute_result"
    }
   ],
   "source": [
    "# Get the contact info from the crowdfunding_info worksheet. \n",
    "# Increase the width of the column.\n",
    "pd.set_option('max_colwidth', 400)\n",
    "contact_info_df = pd.read_excel(crowdfunding_data, sheet_name='contact_info', header=3)\n",
    "contact_info_df.head()\n"
   ]
  },
  {
   "cell_type": "code",
   "execution_count": 5,
   "id": "a0eb4c70",
   "metadata": {},
   "outputs": [],
   "source": [
    "# Use the tail() method to verify that the data at the end of each DataFrame was correctly loaded. \n",
    "# Even if it was, errors might still have occurred in the middle. \n",
    "# So, a best practice is to randomly sample a few rows by using the sample() method.\n",
    "# For a DataFrame named df, df.sample(n=5) will show five random rows from the dataset.\n",
    "# Use the sample() method on each of the two DataFrames to further verify that the data was correctly loaded.\n",
    "#crowdfunding_info_df.tail() // contact_info_df.tail()\n",
    "#crowdfunding_info_df.sample(n=5) // contact_info_df.sample(n=5)"
   ]
  },
  {
   "cell_type": "code",
   "execution_count": 6,
   "id": "2032f219",
   "metadata": {},
   "outputs": [
    {
     "name": "stdout",
     "output_type": "stream",
     "text": [
      "<class 'pandas.core.frame.DataFrame'>\n",
      "RangeIndex: 1000 entries, 0 to 999\n",
      "Data columns (total 14 columns):\n",
      " #   Column                   Non-Null Count  Dtype \n",
      "---  ------                   --------------  ----- \n",
      " 0   cf_id                    1000 non-null   int64 \n",
      " 1   company_name             1000 non-null   object\n",
      " 2   blurb                    1000 non-null   object\n",
      " 3   goal                     1000 non-null   int64 \n",
      " 4   pledged                  1000 non-null   int64 \n",
      " 5   outcome                  1000 non-null   object\n",
      " 6   backers_count            1000 non-null   int64 \n",
      " 7   country                  1000 non-null   object\n",
      " 8   currency                 1000 non-null   object\n",
      " 9   launched_at              1000 non-null   int64 \n",
      " 10  deadline                 1000 non-null   int64 \n",
      " 11  staff_pick               1000 non-null   bool  \n",
      " 12  spotlight                1000 non-null   bool  \n",
      " 13  category & sub-category  1000 non-null   object\n",
      "dtypes: bool(2), int64(6), object(6)\n",
      "memory usage: 95.8+ KB\n"
     ]
    }
   ],
   "source": [
    "# Get a brief summary of the crowdfunding_info DataFrame. \n",
    "crowdfunding_info_df.info()"
   ]
  },
  {
   "cell_type": "code",
   "execution_count": 7,
   "id": "45524dab",
   "metadata": {},
   "outputs": [
    {
     "name": "stdout",
     "output_type": "stream",
     "text": [
      "<class 'pandas.core.frame.DataFrame'>\n",
      "RangeIndex: 1000 entries, 0 to 999\n",
      "Data columns (total 1 columns):\n",
      " #   Column        Non-Null Count  Dtype \n",
      "---  ------        --------------  ----- \n",
      " 0   contact_info  1000 non-null   object\n",
      "dtypes: object(1)\n",
      "memory usage: 7.9+ KB\n"
     ]
    }
   ],
   "source": [
    "# Get a brief summary of the contact_info DataFrame. \n",
    "contact_info_df.info()"
   ]
  },
  {
   "cell_type": "code",
   "execution_count": 8,
   "id": "8d21fefe",
   "metadata": {},
   "outputs": [
    {
     "data": {
      "text/plain": [
       "array(['food/food trucks', 'music/rock', 'technology/web',\n",
       "       'theater/plays', 'film & video/documentary',\n",
       "       'music/electric music', 'film & video/drama', 'music/indie rock',\n",
       "       'technology/wearables', 'publishing/nonfiction',\n",
       "       'film & video/animation', 'games/video games',\n",
       "       'film & video/shorts', 'publishing/fiction',\n",
       "       'photography/photography books', 'publishing/radio & podcasts',\n",
       "       'music/metal', 'music/jazz', 'publishing/translations',\n",
       "       'film & video/television', 'games/mobile games',\n",
       "       'music/world music', 'film & video/science fiction',\n",
       "       'journalism/audio'], dtype=object)"
      ]
     },
     "execution_count": 8,
     "metadata": {},
     "output_type": "execute_result"
    }
   ],
   "source": [
    "# Get the unique values in the category & sub-category column. \n",
    "crowdfunding_info_df[\"category & sub-category\"].unique()"
   ]
  },
  {
   "cell_type": "code",
   "execution_count": 9,
   "id": "8057215d",
   "metadata": {},
   "outputs": [
    {
     "data": {
      "text/html": [
       "<div>\n",
       "<style scoped>\n",
       "    .dataframe tbody tr th:only-of-type {\n",
       "        vertical-align: middle;\n",
       "    }\n",
       "\n",
       "    .dataframe tbody tr th {\n",
       "        vertical-align: top;\n",
       "    }\n",
       "\n",
       "    .dataframe thead th {\n",
       "        text-align: right;\n",
       "    }\n",
       "</style>\n",
       "<table border=\"1\" class=\"dataframe\">\n",
       "  <thead>\n",
       "    <tr style=\"text-align: right;\">\n",
       "      <th></th>\n",
       "      <th>cf_id</th>\n",
       "      <th>company_name</th>\n",
       "      <th>blurb</th>\n",
       "      <th>goal</th>\n",
       "      <th>pledged</th>\n",
       "      <th>outcome</th>\n",
       "      <th>backers_count</th>\n",
       "      <th>country</th>\n",
       "      <th>currency</th>\n",
       "      <th>launched_at</th>\n",
       "      <th>deadline</th>\n",
       "      <th>staff_pick</th>\n",
       "      <th>spotlight</th>\n",
       "      <th>category &amp; sub-category</th>\n",
       "      <th>category</th>\n",
       "      <th>subcategory</th>\n",
       "    </tr>\n",
       "  </thead>\n",
       "  <tbody>\n",
       "    <tr>\n",
       "      <th>0</th>\n",
       "      <td>147</td>\n",
       "      <td>Baldwin, Riley and Jackson</td>\n",
       "      <td>Pre-emptive tertiary standardization</td>\n",
       "      <td>100</td>\n",
       "      <td>0</td>\n",
       "      <td>failed</td>\n",
       "      <td>0</td>\n",
       "      <td>CA</td>\n",
       "      <td>CAD</td>\n",
       "      <td>1581573600</td>\n",
       "      <td>1614578400</td>\n",
       "      <td>False</td>\n",
       "      <td>False</td>\n",
       "      <td>food/food trucks</td>\n",
       "      <td>food</td>\n",
       "      <td>food trucks</td>\n",
       "    </tr>\n",
       "    <tr>\n",
       "      <th>1</th>\n",
       "      <td>1621</td>\n",
       "      <td>Odom Inc</td>\n",
       "      <td>Managed bottom-line architecture</td>\n",
       "      <td>1400</td>\n",
       "      <td>14560</td>\n",
       "      <td>successful</td>\n",
       "      <td>158</td>\n",
       "      <td>US</td>\n",
       "      <td>USD</td>\n",
       "      <td>1611554400</td>\n",
       "      <td>1621918800</td>\n",
       "      <td>False</td>\n",
       "      <td>True</td>\n",
       "      <td>music/rock</td>\n",
       "      <td>music</td>\n",
       "      <td>rock</td>\n",
       "    </tr>\n",
       "    <tr>\n",
       "      <th>2</th>\n",
       "      <td>1812</td>\n",
       "      <td>Melton, Robinson and Fritz</td>\n",
       "      <td>Function-based leadingedge pricing structure</td>\n",
       "      <td>108400</td>\n",
       "      <td>142523</td>\n",
       "      <td>successful</td>\n",
       "      <td>1425</td>\n",
       "      <td>AU</td>\n",
       "      <td>AUD</td>\n",
       "      <td>1608184800</td>\n",
       "      <td>1640844000</td>\n",
       "      <td>False</td>\n",
       "      <td>False</td>\n",
       "      <td>technology/web</td>\n",
       "      <td>technology</td>\n",
       "      <td>web</td>\n",
       "    </tr>\n",
       "    <tr>\n",
       "      <th>3</th>\n",
       "      <td>2156</td>\n",
       "      <td>Mcdonald, Gonzalez and Ross</td>\n",
       "      <td>Vision-oriented fresh-thinking conglomeration</td>\n",
       "      <td>4200</td>\n",
       "      <td>2477</td>\n",
       "      <td>failed</td>\n",
       "      <td>24</td>\n",
       "      <td>US</td>\n",
       "      <td>USD</td>\n",
       "      <td>1634792400</td>\n",
       "      <td>1642399200</td>\n",
       "      <td>False</td>\n",
       "      <td>False</td>\n",
       "      <td>music/rock</td>\n",
       "      <td>music</td>\n",
       "      <td>rock</td>\n",
       "    </tr>\n",
       "    <tr>\n",
       "      <th>4</th>\n",
       "      <td>1365</td>\n",
       "      <td>Larson-Little</td>\n",
       "      <td>Proactive foreground core</td>\n",
       "      <td>7600</td>\n",
       "      <td>5265</td>\n",
       "      <td>failed</td>\n",
       "      <td>53</td>\n",
       "      <td>US</td>\n",
       "      <td>USD</td>\n",
       "      <td>1608530400</td>\n",
       "      <td>1629694800</td>\n",
       "      <td>False</td>\n",
       "      <td>False</td>\n",
       "      <td>theater/plays</td>\n",
       "      <td>theater</td>\n",
       "      <td>plays</td>\n",
       "    </tr>\n",
       "  </tbody>\n",
       "</table>\n",
       "</div>"
      ],
      "text/plain": [
       "   cf_id                 company_name  \\\n",
       "0    147   Baldwin, Riley and Jackson   \n",
       "1   1621                     Odom Inc   \n",
       "2   1812   Melton, Robinson and Fritz   \n",
       "3   2156  Mcdonald, Gonzalez and Ross   \n",
       "4   1365                Larson-Little   \n",
       "\n",
       "                                           blurb    goal  pledged     outcome  \\\n",
       "0           Pre-emptive tertiary standardization     100        0      failed   \n",
       "1               Managed bottom-line architecture    1400    14560  successful   \n",
       "2   Function-based leadingedge pricing structure  108400   142523  successful   \n",
       "3  Vision-oriented fresh-thinking conglomeration    4200     2477      failed   \n",
       "4                      Proactive foreground core    7600     5265      failed   \n",
       "\n",
       "   backers_count country currency  launched_at    deadline  staff_pick  \\\n",
       "0              0      CA      CAD   1581573600  1614578400       False   \n",
       "1            158      US      USD   1611554400  1621918800       False   \n",
       "2           1425      AU      AUD   1608184800  1640844000       False   \n",
       "3             24      US      USD   1634792400  1642399200       False   \n",
       "4             53      US      USD   1608530400  1629694800       False   \n",
       "\n",
       "   spotlight category & sub-category    category  subcategory  \n",
       "0      False        food/food trucks        food  food trucks  \n",
       "1       True              music/rock       music         rock  \n",
       "2      False          technology/web  technology          web  \n",
       "3      False              music/rock       music         rock  \n",
       "4      False           theater/plays     theater        plays  "
      ]
     },
     "execution_count": 9,
     "metadata": {},
     "output_type": "execute_result"
    }
   ],
   "source": [
    "crowdfunding_info_df[[\"category\",\"subcategory\"]]=crowdfunding_info_df[\"category & sub-category\"].str.split('/',n=1,expand=True)\n",
    "crowdfunding_info_df.head()"
   ]
  },
  {
   "cell_type": "code",
   "execution_count": 10,
   "id": "0b83987a",
   "metadata": {},
   "outputs": [
    {
     "name": "stdout",
     "output_type": "stream",
     "text": [
      "9\n",
      "\n",
      "24\n"
     ]
    }
   ],
   "source": [
    "# Get the distinct values in the category and subcategory columns.\n",
    "categories = crowdfunding_info_df[\"category\"].nunique()\n",
    "subcategories = crowdfunding_info_df[\"subcategory\"].nunique()\n",
    "print(categories)\n",
    "print()\n",
    "print(subcategories)"
   ]
  },
  {
   "cell_type": "code",
   "execution_count": 11,
   "id": "0693d24a",
   "metadata": {},
   "outputs": [
    {
     "name": "stdout",
     "output_type": "stream",
     "text": [
      "['food' 'music' 'technology' 'theater' 'film & video' 'publishing' 'games'\n",
      " 'photography' 'journalism']\n",
      "\n",
      "['food trucks' 'rock' 'web' 'plays' 'documentary' 'electric music' 'drama'\n",
      " 'indie rock' 'wearables' 'nonfiction' 'animation' 'video games' 'shorts'\n",
      " 'fiction' 'photography books' 'radio & podcasts' 'metal' 'jazz'\n",
      " 'translations' 'television' 'mobile games' 'world music'\n",
      " 'science fiction' 'audio']\n"
     ]
    }
   ],
   "source": [
    "# Get the distinct values in the category and subcategory columns.\n",
    "categories = crowdfunding_info_df[\"category\"].unique()\n",
    "subcategories = crowdfunding_info_df[\"subcategory\"].unique()\n",
    "print(categories)\n",
    "print()\n",
    "print(subcategories)"
   ]
  },
  {
   "cell_type": "code",
   "execution_count": 12,
   "id": "9b01f457",
   "metadata": {},
   "outputs": [],
   "source": [
    "# Import the Numpy dependency\n",
    "import numpy as np\n"
   ]
  },
  {
   "cell_type": "code",
   "execution_count": 13,
   "id": "1d40e69f",
   "metadata": {},
   "outputs": [
    {
     "name": "stdout",
     "output_type": "stream",
     "text": [
      "[1 2 3 4 5 6 7 8 9]\n",
      "\n",
      "[ 1  2  3  4  5  6  7  8  9 10 11 12 13 14 15 16 17 18 19 20 21 22 23 24]\n"
     ]
    }
   ],
   "source": [
    "# Create numpy arrays that have 1-10 for the category_ids and 1-25 for the subcategory_ids.\n",
    "categories_ids = np.arange(1, 10)\n",
    "subcategories_ids = np.arange(1, 25)\n",
    "print(categories_ids)\n",
    "print()\n",
    "print(subcategories_ids)"
   ]
  },
  {
   "cell_type": "code",
   "execution_count": 14,
   "id": "78290c5f",
   "metadata": {},
   "outputs": [
    {
     "ename": "NameError",
     "evalue": "name 'category_ids' is not defined",
     "output_type": "error",
     "traceback": [
      "\u001b[1;31m---------------------------------------------------------------------------\u001b[0m",
      "\u001b[1;31mNameError\u001b[0m                                 Traceback (most recent call last)",
      "Input \u001b[1;32mIn [14]\u001b[0m, in \u001b[0;36m<cell line: 2>\u001b[1;34m()\u001b[0m\n\u001b[0;32m      1\u001b[0m \u001b[38;5;66;03m# Use a list comprehension to add \"cat0\" to each category_id. \u001b[39;00m\n\u001b[1;32m----> 2\u001b[0m cat_ids \u001b[38;5;241m=\u001b[39m [\u001b[38;5;124m\"\u001b[39m\u001b[38;5;124mcat0\u001b[39m\u001b[38;5;124m\"\u001b[39m \u001b[38;5;241m+\u001b[39m \u001b[38;5;28mstr\u001b[39m(cat_id) \u001b[38;5;28;01mfor\u001b[39;00m cat_id \u001b[38;5;129;01min\u001b[39;00m \u001b[43mcategory_ids\u001b[49m]\n\u001b[0;32m      4\u001b[0m \u001b[38;5;66;03m# Use a list comprehension to add \"scat0\" to each subcategory_id. \u001b[39;00m\n\u001b[0;32m      5\u001b[0m scat_ids \u001b[38;5;241m=\u001b[39m [\u001b[38;5;124m\"\u001b[39m\u001b[38;5;124mscat0\u001b[39m\u001b[38;5;124m\"\u001b[39m \u001b[38;5;241m+\u001b[39m \u001b[38;5;28mstr\u001b[39m(scat_id) \u001b[38;5;28;01mfor\u001b[39;00m scat_id \u001b[38;5;129;01min\u001b[39;00m subcategory_ids ]\n",
      "\u001b[1;31mNameError\u001b[0m: name 'category_ids' is not defined"
     ]
    }
   ],
   "source": [
    "# Use a list comprehension to add \"cat0\" to each category_id. \n",
    "cat_ids = [\"cat0\" + str(cat_id) for cat_id in category_ids]\n",
    "\n",
    "# Use a list comprehension to add \"scat0\" to each subcategory_id. \n",
    "scat_ids = [\"scat0\" + str(scat_id) for scat_id in subcategory_ids ]\n",
    "\n",
    "print(cat_ids)\n",
    "print(scat_ids)"
   ]
  },
  {
   "cell_type": "code",
   "execution_count": null,
   "id": "e7a18b42",
   "metadata": {},
   "outputs": [],
   "source": [
    "# Create a category DataFrame with the cat_ids array as the category_id and categories list as the category name.\n",
    "category_df = pd.DataFrame({\n",
    "    \"category_id\": cat_ids,\n",
    "    \"category\" : categories\n",
    "})\n",
    "\n",
    "category_df.to_csv(\"category_df.csv\",index=False)"
   ]
  },
  {
   "cell_type": "code",
   "execution_count": null,
   "id": "35ff7b96",
   "metadata": {},
   "outputs": [],
   "source": [
    "# Create a subcategory DataFrame with the scat_ids array as the subcategory_id and subcategories list as the subcategory name.\n",
    "subcategory_df = pd.DataFrame({\n",
    "    \"subcategory_id\": scat_ids,\n",
    "    \"subcategory\" : subcategories\n",
    "})\n",
    "\n",
    "\n",
    "subcategory_df.to_csv(\"subcategory_df.csv\",index=False)"
   ]
  },
  {
   "cell_type": "code",
   "execution_count": null,
   "id": "37740684",
   "metadata": {},
   "outputs": [],
   "source": [
    "# Create a copy of the crowdfunding_info_df DataFrame name campaign_df.\n",
    "campaign_df = crowdfunding_info_df.copy()\n",
    "campaign_df.head()"
   ]
  },
  {
   "cell_type": "code",
   "execution_count": null,
   "id": "8a7f7a12",
   "metadata": {},
   "outputs": [],
   "source": [
    "#Then, change the \"goal\" and \"pledged\" columns from the int64 data type to float by running the following code:\n",
    "\n",
    "# Convert the goal and pledged columns to a `float` data type.\n",
    "campaign_df = campaign_df.rename(columns={'blurb': 'description'})\n",
    "campaign_df = campaign_df.rename(columns={'launched_at': 'launched_date'})\n",
    "campaign_df = campaign_df.rename(columns={'deadline': 'end_date'})\n",
    "campaign_df[[\"goal\",\"pledged\"]] = campaign_df[[\"goal\",\"pledged\"]].astype(float)\n",
    "campaign_df.head()"
   ]
  },
  {
   "cell_type": "code",
   "execution_count": null,
   "id": "849b6050",
   "metadata": {},
   "outputs": [],
   "source": [
    "# Format the launched_date and end_date columns to datetime format.\n",
    "from datetime import datetime as dt\n",
    "campaign_df[\"launched_date\"] = pd.to_datetime(campaign_df[\"launched_date\"], unit='s').dt.strftime('%Y-%m-%d') \n",
    "campaign_df[\"end_date\"] = pd.to_datetime(campaign_df[\"end_date\"], unit='s').dt.strftime('%Y-%m-%d')\n",
    "campaign_df.head()"
   ]
  },
  {
   "cell_type": "code",
   "execution_count": null,
   "id": "338b6d25",
   "metadata": {},
   "outputs": [],
   "source": [
    "# Merge the campaign_df with the category_df on the \"category\" column and \n",
    "# the subcategory_df on the \"subcategory\" column.\n",
    "campaign_merged_df = campaign_df.merge(category_df, on='category', how='left').merge(subcategory_df, on='subcategory', how='left')\n",
    "campaign_merged_df.tail(10)"
   ]
  },
  {
   "cell_type": "code",
   "execution_count": null,
   "id": "fcb4b5da",
   "metadata": {},
   "outputs": [],
   "source": [
    "# Drop unwanted columns.\n",
    "campaign_cleaned = campaign_merged_df.drop(['staff_pick', 'spotlight', 'category & sub-category','category', 'subcategory'], axis=1)\n",
    "campaign_cleaned.head()"
   ]
  },
  {
   "cell_type": "code",
   "execution_count": null,
   "id": "4df58b2c",
   "metadata": {},
   "outputs": [],
   "source": [
    "# Show the contact_info_df DataFrame.\n",
    "contact_info_df.columns"
   ]
  },
  {
   "cell_type": "code",
   "execution_count": null,
   "id": "c9e60c5e",
   "metadata": {},
   "outputs": [],
   "source": []
  },
  {
   "cell_type": "code",
   "execution_count": null,
   "id": "45d6720c",
   "metadata": {},
   "outputs": [],
   "source": [
    "# Retrieve the data from the \"contact_info\" column.\n",
    "contact_info_list = contact_info_df.contact_info.to_list()\n",
    "contact_info_list"
   ]
  },
  {
   "cell_type": "code",
   "execution_count": null,
   "id": "76fd9337",
   "metadata": {},
   "outputs": [],
   "source": [
    "# Pop out the unique identification number using list slicing. \n",
    "print(contact_info_list[0][:15])\n",
    "print(contact_info_list[0][15:19])"
   ]
  },
  {
   "cell_type": "code",
   "execution_count": null,
   "id": "e510ef88",
   "metadata": {},
   "outputs": [],
   "source": [
    "# Pop out the unique identification number using list comprehension and slicing. \n",
    "print([x[15:19] for x in contact_info_list])"
   ]
  },
  {
   "cell_type": "code",
   "execution_count": null,
   "id": "50cdf0a0",
   "metadata": {},
   "outputs": [],
   "source": [
    "# Extract the four-digit contact ID number and add it to a new column in the `campaign_cleaned` DataFrame.\n",
    "campaign_cleaned[\"contact_id\"] = [x[15:19] for x in contact_info_df[\"contact_info\"].values]\n",
    "campaign_cleaned.head()"
   ]
  },
  {
   "cell_type": "code",
   "execution_count": null,
   "id": "2201b9fe",
   "metadata": {},
   "outputs": [],
   "source": [
    "# Convert the \"contact_id\" column to an int64 data type.\n",
    "campaign_cleaned['contact_id'] = pd.to_numeric(campaign_cleaned['contact_id'])\n",
    "campaign_cleaned.info()"
   ]
  },
  {
   "cell_type": "code",
   "execution_count": null,
   "id": "212ac4d3",
   "metadata": {},
   "outputs": [],
   "source": [
    "#campaign_cleaned.reindex([\"cf_id\",\"contact_id\"\"company_name\", \"description\", \"goal\", \"pledged\", \"outcome\", \"backers_count\", \"country\", \"currency\", \"launched_date\", \"end_date\", \"category_id\",\"subcategory_id\"])\n",
    "campaign_cleaned.loc[:, [\"cf_id\",\"contact_id\",\"company_name\", \"description\", \"goal\", \"pledged\", \"outcome\", \"backers_count\", \"country\", \"currency\", \"launched_date\", \"end_date\", \"category_id\",\"subcategory_id\"]]"
   ]
  },
  {
   "cell_type": "code",
   "execution_count": null,
   "id": "9672f4d8",
   "metadata": {},
   "outputs": [],
   "source": [
    "campaign_cleaned.to_csv(\"campaign_cleaned.csv\",index=False)"
   ]
  },
  {
   "cell_type": "code",
   "execution_count": null,
   "id": "3c22dd55",
   "metadata": {},
   "outputs": [],
   "source": [
    "# Extract the four-digit contact ID number and add it to a new column in the contact_info DataFrame.\n",
    "contact_info_df[\"contact_id\"] = [x[15:19] for x in contact_info_df[\"contact_info\"].values]\n",
    "contact_info_df.head()"
   ]
  },
  {
   "cell_type": "code",
   "execution_count": null,
   "id": "37b91efc",
   "metadata": {},
   "outputs": [],
   "source": [
    "# Get the data from the first row and convert it to a dictionary.\n",
    "import json\n",
    "first_row = contact_info_df.iloc[0]['contact_info']\n",
    "converted_data = json.loads(first_row)\n",
    "for k, v in converted_data.items():\n",
    "    print(k,v)"
   ]
  },
  {
   "cell_type": "code",
   "execution_count": null,
   "id": "0aa63431",
   "metadata": {},
   "outputs": [],
   "source": [
    "# Iterate through the contact_info_df and convert each row to a dictionary.\n",
    "dict_values = []\n",
    "for i, row in contact_info_df.iterrows():\n",
    "    # Get the data first item in each row.\n",
    "    data = row['contact_info']\n",
    "    converted_data = json.loads(data)\n",
    "    # Iterate through each dictionary (row) and get the values for each row using list comprehension.\n",
    "    row_values = [v for k, v in converted_data.items()]\n",
    "    # Append the list of values for each row to a new list. \n",
    "    dict_values.append(row_values)\n",
    "\n",
    "# Print out the list of values for each row.\n",
    "print(dict_values)"
   ]
  },
  {
   "cell_type": "code",
   "execution_count": null,
   "id": "c2bfe439",
   "metadata": {},
   "outputs": [],
   "source": [
    "# Create a contact_info DataFrame and add each list of values, i.e., each row to the 'contact_id', 'name', 'email' columns.\n",
    "contacts_df = pd.DataFrame(dict_values, columns=['contact_id', 'name', 'email'])\n",
    "contacts_df.head()"
   ]
  },
  {
   "cell_type": "code",
   "execution_count": null,
   "id": "246142be",
   "metadata": {},
   "outputs": [],
   "source": [
    "# Create a \"first\"name\" and \"last_name\" column with the first and last names from the \"name\" column. \n",
    "contacts_df[[\"first_name\",\"last_name\"]] = contacts_df[\"name\"].str.split(' ', n=1, expand=True)\n",
    "\n",
    "# Drop the name column. \n",
    "contacts_df_clean = contacts_df.drop(['name'], axis=1)\n",
    "contacts_df_clean.head(10)"
   ]
  },
  {
   "cell_type": "code",
   "execution_count": 16,
   "id": "2182a12c",
   "metadata": {},
   "outputs": [
    {
     "ename": "NameError",
     "evalue": "name 'contacts_df_clean' is not defined",
     "output_type": "error",
     "traceback": [
      "\u001b[1;31m---------------------------------------------------------------------------\u001b[0m",
      "\u001b[1;31mNameError\u001b[0m                                 Traceback (most recent call last)",
      "Input \u001b[1;32mIn [16]\u001b[0m, in \u001b[0;36m<cell line: 1>\u001b[1;34m()\u001b[0m\n\u001b[1;32m----> 1\u001b[0m contacts_df_clean\u001b[38;5;241m=\u001b[39m\u001b[43mcontacts_df_clean\u001b[49m\u001b[38;5;241m.\u001b[39mloc[:,[\u001b[38;5;124m\"\u001b[39m\u001b[38;5;124mcontact_id\u001b[39m\u001b[38;5;124m\"\u001b[39m, \u001b[38;5;124m\"\u001b[39m\u001b[38;5;124mfirst_name\u001b[39m\u001b[38;5;124m\"\u001b[39m, \u001b[38;5;124m\"\u001b[39m\u001b[38;5;124mlast_name\u001b[39m\u001b[38;5;124m\"\u001b[39m, \u001b[38;5;124m\"\u001b[39m\u001b[38;5;124memail\u001b[39m\u001b[38;5;124m\"\u001b[39m]]\n\u001b[0;32m      2\u001b[0m contacts_df_clean\n",
      "\u001b[1;31mNameError\u001b[0m: name 'contacts_df_clean' is not defined"
     ]
    }
   ],
   "source": [
    "contacts_df_clean=contacts_df_clean.loc[:,[\"contact_id\", \"first_name\", \"last_name\", \"email\"]]\n",
    "contacts_df_clean"
   ]
  },
  {
   "cell_type": "code",
   "execution_count": 15,
   "id": "5743b1f4",
   "metadata": {},
   "outputs": [
    {
     "ename": "NameError",
     "evalue": "name 'contacts_df_clean' is not defined",
     "output_type": "error",
     "traceback": [
      "\u001b[1;31m---------------------------------------------------------------------------\u001b[0m",
      "\u001b[1;31mNameError\u001b[0m                                 Traceback (most recent call last)",
      "Input \u001b[1;32mIn [15]\u001b[0m, in \u001b[0;36m<cell line: 1>\u001b[1;34m()\u001b[0m\n\u001b[1;32m----> 1\u001b[0m \u001b[43mcontacts_df_clean\u001b[49m\u001b[38;5;241m.\u001b[39mto_csv(\u001b[38;5;124m\"\u001b[39m\u001b[38;5;124mcontacts.csv\u001b[39m\u001b[38;5;124m\"\u001b[39m,encoding\u001b[38;5;241m=\u001b[39m\u001b[38;5;124m'\u001b[39m\u001b[38;5;124mutf8\u001b[39m\u001b[38;5;124m'\u001b[39m,index\u001b[38;5;241m=\u001b[39m\u001b[38;5;28;01mFalse\u001b[39;00m)\n",
      "\u001b[1;31mNameError\u001b[0m: name 'contacts_df_clean' is not defined"
     ]
    }
   ],
   "source": [
    "contacts_df_clean.to_csv(\"contacts.csv\",encoding='utf8',index=False)"
   ]
  },
  {
   "cell_type": "code",
   "execution_count": null,
   "id": "eb9d796f",
   "metadata": {},
   "outputs": [],
   "source": []
  },
  {
   "cell_type": "code",
   "execution_count": null,
   "id": "128ef5d9",
   "metadata": {},
   "outputs": [],
   "source": []
  }
 ],
 "metadata": {
  "kernelspec": {
   "display_name": "PythonData",
   "language": "python",
   "name": "pythondata"
  },
  "language_info": {
   "codemirror_mode": {
    "name": "ipython",
    "version": 3
   },
   "file_extension": ".py",
   "mimetype": "text/x-python",
   "name": "python",
   "nbconvert_exporter": "python",
   "pygments_lexer": "ipython3",
   "version": "3.9.12"
  }
 },
 "nbformat": 4,
 "nbformat_minor": 5
}
